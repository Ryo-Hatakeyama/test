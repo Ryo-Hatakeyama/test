{
  "cells": [
    {
      "cell_type": "markdown",
      "metadata": {
        "id": "view-in-github",
        "colab_type": "text"
      },
      "source": [
        "<a href=\"https://colab.research.google.com/github/Ryo-Hatakeyama/test/blob/main/acft_class_v1.ipynb\" target=\"_parent\"><img src=\"https://colab.research.google.com/assets/colab-badge.svg\" alt=\"Open In Colab\"/></a>"
      ]
    },
    {
      "cell_type": "code",
      "execution_count": null,
      "metadata": {
        "id": "Iqd3rfcib3xw"
      },
      "outputs": [],
      "source": [
        "w = !apt install tree"
      ]
    },
    {
      "cell_type": "code",
      "source": [
        "from google.colab import files\n",
        "files.upload()"
      ],
      "metadata": {
        "colab": {
          "resources": {
            "http://localhost:8080/nbextensions/google.colab/files.js": {
              "data": "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",
              "ok": true,
              "headers": [
                [
                  "content-type",
                  "application/javascript"
                ]
              ],
              "status": 200,
              "status_text": ""
            }
          },
          "base_uri": "https://localhost:8080/",
          "height": 78
        },
        "id": "vorl7sbw-RRo",
        "outputId": "f8d93814-5c35-4373-f8b1-1a76e067247b"
      },
      "execution_count": null,
      "outputs": [
        {
          "output_type": "display_data",
          "data": {
            "text/plain": [
              "<IPython.core.display.HTML object>"
            ],
            "text/html": [
              "\n",
              "     <input type=\"file\" id=\"files-662f48c5-9669-43b4-80c5-3c284281c5a5\" name=\"files[]\" multiple disabled\n",
              "        style=\"border:none\" />\n",
              "     <output id=\"result-662f48c5-9669-43b4-80c5-3c284281c5a5\">\n",
              "      Upload widget is only available when the cell has been executed in the\n",
              "      current browser session. Please rerun this cell to enable.\n",
              "      </output>\n",
              "      <script src=\"/nbextensions/google.colab/files.js\"></script> "
            ]
          },
          "metadata": {}
        },
        {
          "output_type": "stream",
          "name": "stdout",
          "text": [
            "Saving imagefiles_224_v2.zip to imagefiles_224_v2.zip\n"
          ]
        }
      ]
    },
    {
      "cell_type": "code",
      "source": [
        "w = !unzip -o imagefiles_224_v2.zip"
      ],
      "metadata": {
        "id": "L7Xepv1MEErL"
      },
      "execution_count": null,
      "outputs": []
    },
    {
      "cell_type": "code",
      "execution_count": null,
      "metadata": {
        "id": "PDVMk4U5Ni1S"
      },
      "outputs": [],
      "source": [
        "# モジュールのインポート\n",
        "from PIL import Image\n",
        "import os, glob\n",
        "import numpy as np\n",
        "from sklearn import model_selection\n",
        "import matplotlib.pyplot as plt\n",
        "from re import X\n",
        "from tensorflow import keras\n",
        "from tensorflow.keras.models import Sequential, Model\n",
        "from tensorflow.keras.layers import Dense, Dropout, Flatten\n",
        "from tensorflow.keras.layers import Conv2D, MaxPooling2D\n",
        "from tensorflow.keras.optimizers import SGD, Adam\n",
        "from tensorflow.python.keras.utils import np_utils\n",
        "from tensorflow.keras.applications import VGG16,MobileNetV2, ResNet50V2, EfficientNetV2B3\n",
        "from tensorflow.keras.preprocessing.image import ImageDataGenerator, load_img, array_to_img"
      ]
    },
    {
      "cell_type": "code",
      "execution_count": null,
      "metadata": {
        "id": "ff4JsbWQO_UN"
      },
      "outputs": [],
      "source": [
        "# パラメーターの初期化\n",
        "classes = [\"A320\", \"A330\", \"A350\", \"A380\", \"ATR\", \"B737\", \"B747\", \"B767\", \"B777\", \"B787\", \"DHC8\"]\n",
        "num_classes = len(classes)\n",
        "image_size = 224"
      ]
    },
    {
      "cell_type": "code",
      "source": [
        "# データの読み込み\n",
        "X_train, X_test, y_train, y_test = np.load(\"./imagefiles_224_v2.npy\",allow_pickle=True)"
      ],
      "metadata": {
        "id": "Mjp3L0vDSN4l"
      },
      "execution_count": null,
      "outputs": []
    },
    {
      "cell_type": "code",
      "execution_count": null,
      "metadata": {
        "id": "H9Pw6xE3dh7e"
      },
      "outputs": [],
      "source": [
        "y_train = np_utils.to_categorical(y_train, num_classes)\n",
        "y_test = np_utils.to_categorical(y_test, num_classes)\n",
        "X_train = X_train.astype(\"float\") / 255.0\n",
        "X_test = X_test.astype(\"float\") /255.0"
      ]
    },
    {
      "cell_type": "code",
      "source": [
        "#学習用のImageDataGeneratorクラスの作成\n",
        "augmentation_train_datagen = ImageDataGenerator(\n",
        "    #左右反転\n",
        "    horizontal_flip = True,\n",
        "    #上下平行移動\n",
        "    height_shift_range = 0.2,\n",
        "    #左右平行移動\n",
        "    width_shift_range = 0.2,\n",
        "    #明るさ調整\n",
        "    # brightness_range=[0.5,1.5],\n",
        ")\n",
        "#学習用のバッチの生成\n",
        "augmentation_train_generator = augmentation_train_datagen.flow(X_train, y_train, batch_size=32, seed=0)"
      ],
      "metadata": {
        "id": "QIDvidXKSadz"
      },
      "execution_count": null,
      "outputs": []
    },
    {
      "cell_type": "code",
      "source": [
        "# モデルの定義\n",
        "base_model = VGG16(weights='imagenet', include_top=False, input_shape=(image_size,image_size,3))\n",
        "# base_model = EfficientNetV2B3(weights='imagenet', include_top=False, input_shape=(image_size,image_size,3))\n",
        "# base_model = ResNet50V2(weights='imagenet', include_top=False, input_shape=(image_size,image_size,3))\n",
        "# print('Model loaded')\n",
        "# model.summary()\n",
        "\n",
        "x = base_model.output\n",
        "x = Flatten(input_shape=base_model.output_shape[1:])(x)\n",
        "x = Dense(256, activation='relu')(x)\n",
        "x = Dropout(0.5)(x)\n",
        "x = Dense(num_classes, activation='softmax')(x)\n",
        "\n",
        "model = Model(inputs=base_model.input, outputs=x)\n",
        "\n",
        "# model.summary()\n",
        "for layer in model.layers[:15]:\n",
        "    layer.trainable = False"
      ],
      "metadata": {
        "id": "X53LNW7cSfAX"
      },
      "execution_count": null,
      "outputs": []
    },
    {
      "cell_type": "code",
      "source": [
        "opt = Adam(lr=0.0001)\n",
        "model.compile(loss='categorical_crossentropy', optimizer=opt,metrics=['accuracy'])\n",
        "model.fit(augmentation_train_generator, batch_size=32, epochs=30)\n",
        "\n",
        "score = model.evaluate(X_test, y_test, batch_size=32)"
      ],
      "metadata": {
        "id": "9J7I82mmSjnn",
        "colab": {
          "base_uri": "https://localhost:8080/"
        },
        "outputId": "b97d3c31-3885-4c36-cf9c-e74612edf0ef"
      },
      "execution_count": null,
      "outputs": [
        {
          "output_type": "stream",
          "name": "stderr",
          "text": [
            "/usr/local/lib/python3.7/dist-packages/keras/optimizer_v2/adam.py:105: UserWarning: The `lr` argument is deprecated, use `learning_rate` instead.\n",
            "  super(Adam, self).__init__(name, **kwargs)\n"
          ]
        },
        {
          "output_type": "stream",
          "name": "stdout",
          "text": [
            "Epoch 1/30\n",
            "27/27 [==============================] - 9s 302ms/step - loss: 2.5023 - accuracy: 0.1091\n",
            "Epoch 2/30\n",
            "27/27 [==============================] - 8s 301ms/step - loss: 2.2003 - accuracy: 0.2110\n",
            "Epoch 3/30\n",
            "27/27 [==============================] - 8s 308ms/step - loss: 1.9536 - accuracy: 0.3417\n",
            "Epoch 4/30\n",
            "27/27 [==============================] - 8s 295ms/step - loss: 1.7546 - accuracy: 0.3981\n",
            "Epoch 5/30\n",
            "27/27 [==============================] - 8s 302ms/step - loss: 1.4485 - accuracy: 0.5168\n",
            "Epoch 6/30\n",
            "27/27 [==============================] - 8s 306ms/step - loss: 1.2382 - accuracy: 0.5923\n",
            "Epoch 7/30\n",
            "27/27 [==============================] - 8s 299ms/step - loss: 1.0281 - accuracy: 0.6763\n",
            "Epoch 8/30\n",
            "27/27 [==============================] - 8s 299ms/step - loss: 0.8839 - accuracy: 0.6978\n",
            "Epoch 9/30\n",
            "27/27 [==============================] - 8s 304ms/step - loss: 0.8332 - accuracy: 0.7410\n",
            "Epoch 10/30\n",
            "27/27 [==============================] - 8s 305ms/step - loss: 0.7223 - accuracy: 0.7638\n",
            "Epoch 11/30\n",
            "27/27 [==============================] - 8s 301ms/step - loss: 0.6260 - accuracy: 0.8034\n",
            "Epoch 12/30\n",
            "27/27 [==============================] - 8s 299ms/step - loss: 0.4866 - accuracy: 0.8417\n",
            "Epoch 13/30\n",
            "27/27 [==============================] - 8s 298ms/step - loss: 0.5575 - accuracy: 0.8189\n",
            "Epoch 14/30\n",
            "27/27 [==============================] - 8s 309ms/step - loss: 0.3557 - accuracy: 0.8909\n",
            "Epoch 15/30\n",
            "27/27 [==============================] - 8s 309ms/step - loss: 0.3293 - accuracy: 0.8909\n",
            "Epoch 16/30\n",
            "27/27 [==============================] - 8s 298ms/step - loss: 0.4062 - accuracy: 0.8717\n",
            "Epoch 17/30\n",
            "27/27 [==============================] - 8s 297ms/step - loss: 0.2267 - accuracy: 0.9209\n",
            "Epoch 18/30\n",
            "27/27 [==============================] - 8s 303ms/step - loss: 0.2399 - accuracy: 0.9101\n",
            "Epoch 19/30\n",
            "27/27 [==============================] - 8s 314ms/step - loss: 0.2160 - accuracy: 0.9293\n",
            "Epoch 20/30\n",
            "27/27 [==============================] - 8s 308ms/step - loss: 0.1340 - accuracy: 0.9616\n",
            "Epoch 21/30\n",
            "27/27 [==============================] - 8s 299ms/step - loss: 0.1327 - accuracy: 0.9556\n",
            "Epoch 22/30\n",
            "27/27 [==============================] - 8s 302ms/step - loss: 0.1534 - accuracy: 0.9520\n",
            "Epoch 23/30\n",
            "27/27 [==============================] - 8s 301ms/step - loss: 0.3161 - accuracy: 0.8957\n",
            "Epoch 24/30\n",
            "27/27 [==============================] - 8s 299ms/step - loss: 0.1133 - accuracy: 0.9616\n",
            "Epoch 25/30\n",
            "27/27 [==============================] - 8s 302ms/step - loss: 0.0912 - accuracy: 0.9760\n",
            "Epoch 26/30\n",
            "27/27 [==============================] - 8s 301ms/step - loss: 0.0821 - accuracy: 0.9772\n",
            "Epoch 27/30\n",
            "27/27 [==============================] - 8s 300ms/step - loss: 0.0707 - accuracy: 0.9724\n",
            "Epoch 28/30\n",
            "27/27 [==============================] - 8s 307ms/step - loss: 0.0332 - accuracy: 0.9904\n",
            "Epoch 29/30\n",
            "27/27 [==============================] - 8s 294ms/step - loss: 0.0639 - accuracy: 0.9772\n",
            "Epoch 30/30\n",
            "27/27 [==============================] - 8s 302ms/step - loss: 0.0354 - accuracy: 0.9904\n",
            "9/9 [==============================] - 2s 152ms/step - loss: 0.6839 - accuracy: 0.8746\n"
          ]
        }
      ]
    },
    {
      "cell_type": "markdown",
      "source": [
        "データ減らす前\n",
        "\n",
        "aspvgg16_epochs35_aug_0.8056\n",
        "\n",
        "asp_resnet_epochs35_aug_0.7346\n",
        "\n",
        "asp_effi_epochs40_aug_0.7531\n",
        "\n",
        "asp_effi_epochs35_aug_0.7469\n",
        "\n",
        "224_vgg16_epochs30_aug_0.811\n",
        "\n",
        "224_vgg16_epochs27_aug_0.8025\n",
        "\n",
        "224_vgg16_epochs25_aug_0.8210\n",
        "\n",
        "224_vgg16_epochs24_aug_0.8302\n",
        "\n",
        "224_vgg16_epochs23_aug_0.8210\n",
        "\n",
        "224_vgg16_epochs22_aug_0.7870\n",
        "\n",
        "データ減らした後\n",
        "\n",
        "224_vgg16_epochs30_aug_0.86"
      ],
      "metadata": {
        "id": "qNn3xrDDWNxY"
      }
    },
    {
      "cell_type": "code",
      "source": [
        "# keras_model_path = \"/content/keras_save\"\n",
        "# model.save(keras_model_path)"
      ],
      "metadata": {
        "id": "DQhalumxtWWm"
      },
      "execution_count": null,
      "outputs": []
    },
    {
      "cell_type": "code",
      "source": [
        "# restored_keras_model = tf.keras.models.load_model(keras_model_path)"
      ],
      "metadata": {
        "id": "OCMyq4N9JnnQ"
      },
      "execution_count": null,
      "outputs": []
    },
    {
      "cell_type": "code",
      "source": [
        "# ダウンロードしたいフォルダを zip 圧縮する\n",
        "# !zip -r /content/keras_save.zip /content/keras_save"
      ],
      "metadata": {
        "colab": {
          "base_uri": "https://localhost:8080/"
        },
        "id": "EU_CBwU_LVUY",
        "outputId": "65c647c1-6fc0-412a-b601-0fd162f47fc4"
      },
      "execution_count": null,
      "outputs": [
        {
          "output_type": "stream",
          "name": "stdout",
          "text": [
            "  adding: content/keras_save/ (stored 0%)\n",
            "  adding: content/keras_save/assets/ (stored 0%)\n",
            "  adding: content/keras_save/keras_metadata.pb (deflated 95%)\n",
            "  adding: content/keras_save/saved_model.pb (deflated 90%)\n",
            "  adding: content/keras_save/variables/ (stored 0%)\n",
            "  adding: content/keras_save/variables/variables.index (deflated 70%)\n",
            "  adding: content/keras_save/variables/variables.data-00000-of-00001 (deflated 10%)\n"
          ]
        }
      ]
    },
    {
      "cell_type": "code",
      "source": [
        "# 圧縮した zip ファイルをダウンロードする\n",
        "# files.download(\"/content/keras_save.zip\")"
      ],
      "metadata": {
        "colab": {
          "base_uri": "https://localhost:8080/",
          "height": 17
        },
        "id": "ysGdvyQHMqxF",
        "outputId": "733aee9f-611f-4de6-e960-733abdba0431"
      },
      "execution_count": null,
      "outputs": [
        {
          "output_type": "display_data",
          "data": {
            "text/plain": [
              "<IPython.core.display.Javascript object>"
            ],
            "application/javascript": [
              "\n",
              "    async function download(id, filename, size) {\n",
              "      if (!google.colab.kernel.accessAllowed) {\n",
              "        return;\n",
              "      }\n",
              "      const div = document.createElement('div');\n",
              "      const label = document.createElement('label');\n",
              "      label.textContent = `Downloading \"${filename}\": `;\n",
              "      div.appendChild(label);\n",
              "      const progress = document.createElement('progress');\n",
              "      progress.max = size;\n",
              "      div.appendChild(progress);\n",
              "      document.body.appendChild(div);\n",
              "\n",
              "      const buffers = [];\n",
              "      let downloaded = 0;\n",
              "\n",
              "      const channel = await google.colab.kernel.comms.open(id);\n",
              "      // Send a message to notify the kernel that we're ready.\n",
              "      channel.send({})\n",
              "\n",
              "      for await (const message of channel.messages) {\n",
              "        // Send a message to notify the kernel that we're ready.\n",
              "        channel.send({})\n",
              "        if (message.buffers) {\n",
              "          for (const buffer of message.buffers) {\n",
              "            buffers.push(buffer);\n",
              "            downloaded += buffer.byteLength;\n",
              "            progress.value = downloaded;\n",
              "          }\n",
              "        }\n",
              "      }\n",
              "      const blob = new Blob(buffers, {type: 'application/binary'});\n",
              "      const a = document.createElement('a');\n",
              "      a.href = window.URL.createObjectURL(blob);\n",
              "      a.download = filename;\n",
              "      div.appendChild(a);\n",
              "      a.click();\n",
              "      div.remove();\n",
              "    }\n",
              "  "
            ]
          },
          "metadata": {}
        },
        {
          "output_type": "display_data",
          "data": {
            "text/plain": [
              "<IPython.core.display.Javascript object>"
            ],
            "application/javascript": [
              "download(\"download_76dd8f86-ee26-48be-966d-ccd1f200780d\", \"keras_save.zip\", 172683407)"
            ]
          },
          "metadata": {}
        }
      ]
    },
    {
      "cell_type": "code",
      "source": [
        ""
      ],
      "metadata": {
        "id": "FH-Avua2M0BQ"
      },
      "execution_count": null,
      "outputs": []
    }
  ],
  "metadata": {
    "accelerator": "GPU",
    "colab": {
      "collapsed_sections": [],
      "machine_shape": "hm",
      "name": "acft_class_v1.ipynb",
      "provenance": [],
      "authorship_tag": "ABX9TyMrpEpQuptyeEiGKfpB7Tgc",
      "include_colab_link": true
    },
    "kernelspec": {
      "display_name": "Python 3",
      "name": "python3"
    },
    "language_info": {
      "name": "python"
    }
  },
  "nbformat": 4,
  "nbformat_minor": 0
}